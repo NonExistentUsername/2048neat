{
 "cells": [
  {
   "cell_type": "code",
   "execution_count": 1,
   "metadata": {},
   "outputs": [],
   "source": [
    "from neat2048.game import Game2048, UP, DOWN, LEFT, RIGHT\n",
    "from neat2048.fitness import board_to_input_v1, board_to_input\n",
    "import pickle\n",
    "\n",
    "net = pickle.load(open(\"output_network.pkl\", \"rb\"))\n",
    "\n",
    "game = Game2048()\n",
    "game.add_random_tile()"
   ]
  },
  {
   "cell_type": "code",
   "execution_count": 2,
   "metadata": {},
   "outputs": [
    {
     "ename": "RuntimeError",
     "evalue": "Expected 8 inputs, got 16",
     "output_type": "error",
     "traceback": [
      "\u001b[0;31m---------------------------------------------------------------------------\u001b[0m",
      "\u001b[0;31mRuntimeError\u001b[0m                              Traceback (most recent call last)",
      "Cell \u001b[0;32mIn[2], line 24\u001b[0m\n\u001b[1;32m     21\u001b[0m clear_output()\n\u001b[1;32m     23\u001b[0m inputs \u001b[38;5;241m=\u001b[39m board_to_input_v1(game\u001b[38;5;241m.\u001b[39mboard)\n\u001b[0;32m---> 24\u001b[0m outputs \u001b[38;5;241m=\u001b[39m \u001b[43mnet\u001b[49m\u001b[38;5;241;43m.\u001b[39;49m\u001b[43mactivate\u001b[49m\u001b[43m(\u001b[49m\u001b[43minputs\u001b[49m\u001b[43m)\u001b[49m\n\u001b[1;32m     25\u001b[0m moves \u001b[38;5;241m=\u001b[39m [(i, output) \u001b[38;5;28;01mfor\u001b[39;00m i, output \u001b[38;5;129;01min\u001b[39;00m \u001b[38;5;28menumerate\u001b[39m(outputs)]\n\u001b[1;32m     27\u001b[0m \u001b[38;5;28;01mfor\u001b[39;00m move, _ \u001b[38;5;129;01min\u001b[39;00m \u001b[38;5;28msorted\u001b[39m(moves, key\u001b[38;5;241m=\u001b[39m\u001b[38;5;28;01mlambda\u001b[39;00m x: x[\u001b[38;5;241m1\u001b[39m], reverse\u001b[38;5;241m=\u001b[39m\u001b[38;5;28;01mTrue\u001b[39;00m):\n",
      "File \u001b[0;32m~/Library/Caches/pypoetry/virtualenvs/2048neat-3Zd3Nyhi-py3.11/lib/python3.11/site-packages/neat/nn/feed_forward.py:14\u001b[0m, in \u001b[0;36mFeedForwardNetwork.activate\u001b[0;34m(self, inputs)\u001b[0m\n\u001b[1;32m     12\u001b[0m \u001b[38;5;28;01mdef\u001b[39;00m \u001b[38;5;21mactivate\u001b[39m(\u001b[38;5;28mself\u001b[39m, inputs):\n\u001b[1;32m     13\u001b[0m     \u001b[38;5;28;01mif\u001b[39;00m \u001b[38;5;28mlen\u001b[39m(\u001b[38;5;28mself\u001b[39m\u001b[38;5;241m.\u001b[39minput_nodes) \u001b[38;5;241m!=\u001b[39m \u001b[38;5;28mlen\u001b[39m(inputs):\n\u001b[0;32m---> 14\u001b[0m         \u001b[38;5;28;01mraise\u001b[39;00m \u001b[38;5;167;01mRuntimeError\u001b[39;00m(\u001b[38;5;124m\"\u001b[39m\u001b[38;5;124mExpected \u001b[39m\u001b[38;5;132;01m{0:n}\u001b[39;00m\u001b[38;5;124m inputs, got \u001b[39m\u001b[38;5;132;01m{1:n}\u001b[39;00m\u001b[38;5;124m\"\u001b[39m\u001b[38;5;241m.\u001b[39mformat(\u001b[38;5;28mlen\u001b[39m(\u001b[38;5;28mself\u001b[39m\u001b[38;5;241m.\u001b[39minput_nodes), \u001b[38;5;28mlen\u001b[39m(inputs)))\n\u001b[1;32m     16\u001b[0m     \u001b[38;5;28;01mfor\u001b[39;00m k, v \u001b[38;5;129;01min\u001b[39;00m \u001b[38;5;28mzip\u001b[39m(\u001b[38;5;28mself\u001b[39m\u001b[38;5;241m.\u001b[39minput_nodes, inputs):\n\u001b[1;32m     17\u001b[0m         \u001b[38;5;28mself\u001b[39m\u001b[38;5;241m.\u001b[39mvalues[k] \u001b[38;5;241m=\u001b[39m v\n",
      "\u001b[0;31mRuntimeError\u001b[0m: Expected 8 inputs, got 16"
     ]
    }
   ],
   "source": [
    "from IPython.display import clear_output\n",
    "\n",
    "print(repr(game))\n",
    "\n",
    "\n",
    "def get_pretty_move(move: int) -> str:\n",
    "    if move == UP:\n",
    "        return \"UP\"\n",
    "    elif move == DOWN:\n",
    "        return \"DOWN\"\n",
    "    elif move == LEFT:\n",
    "        return \"LEFT\"\n",
    "    elif move == RIGHT:\n",
    "        return \"RIGHT\"\n",
    "    else:\n",
    "        return \"UNKNOWN\"\n",
    "\n",
    "\n",
    "while not game.game_end:\n",
    "    _press = input(\"Press enter to continue\")\n",
    "    clear_output()\n",
    "\n",
    "    inputs = board_to_input_v1(game.board)\n",
    "    outputs = net.activate(inputs)\n",
    "    moves = [(i, output) for i, output in enumerate(outputs)]\n",
    "\n",
    "    for move, _ in sorted(moves, key=lambda x: x[1], reverse=True):\n",
    "        changed = game.move(move)\n",
    "        print(\"Move: \", get_pretty_move(move))\n",
    "        if changed:\n",
    "            break\n",
    "\n",
    "    print(repr(game))"
   ]
  },
  {
   "cell_type": "code",
   "execution_count": 8,
   "metadata": {},
   "outputs": [
    {
     "name": "stdout",
     "output_type": "stream",
     "text": [
      "             \n",
      " 2 16 32  64 \n",
      "             \n",
      " 8 32 64 256 \n",
      "             \n",
      " 4 16  2 128 \n",
      "             \n",
      " 2  4 32  64 \n",
      "             \n",
      "\n"
     ]
    }
   ],
   "source": [
    "print(repr(game))"
   ]
  },
  {
   "cell_type": "code",
   "execution_count": 9,
   "metadata": {},
   "outputs": [
    {
     "name": "stdout",
     "output_type": "stream",
     "text": [
      "4024\n"
     ]
    }
   ],
   "source": [
    "print(game.score)"
   ]
  },
  {
   "cell_type": "code",
   "execution_count": null,
   "metadata": {},
   "outputs": [],
   "source": [
    "print(repr(game))"
   ]
  },
  {
   "cell_type": "code",
   "execution_count": null,
   "metadata": {},
   "outputs": [],
   "source": []
  }
 ],
 "metadata": {
  "kernelspec": {
   "display_name": "2048neat-3Zd3Nyhi-py3.11",
   "language": "python",
   "name": "python3"
  },
  "language_info": {
   "codemirror_mode": {
    "name": "ipython",
    "version": 3
   },
   "file_extension": ".py",
   "mimetype": "text/x-python",
   "name": "python",
   "nbconvert_exporter": "python",
   "pygments_lexer": "ipython3",
   "version": "3.11.5"
  }
 },
 "nbformat": 4,
 "nbformat_minor": 2
}
