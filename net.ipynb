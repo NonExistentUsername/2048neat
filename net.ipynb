{
 "cells": [
  {
   "cell_type": "code",
   "execution_count": 5,
   "metadata": {},
   "outputs": [],
   "source": [
    "from neat2048.game import Game2048, UP, DOWN, LEFT, RIGHT\n",
    "from neat2048.fitness import board_to_input_v1, board_to_input\n",
    "import pickle\n",
    "\n",
    "net = pickle.load(open(\"output_network.pkl\", \"rb\"))\n",
    "\n",
    "game = Game2048()\n",
    "game.add_random_tile()"
   ]
  },
  {
   "cell_type": "code",
   "execution_count": 6,
   "metadata": {},
   "outputs": [
    {
     "name": "stdout",
     "output_type": "stream",
     "text": [
      "Move:  UP\n",
      "            \n",
      " 4 2  32  2 \n",
      "            \n",
      " 8 4  128 4 \n",
      "            \n",
      " 4 16 4   8 \n",
      "            \n",
      " 2 64 2   4 \n",
      "            \n",
      "\n"
     ]
    }
   ],
   "source": [
    "from IPython.display import clear_output\n",
    "\n",
    "print(repr(game))\n",
    "\n",
    "\n",
    "def get_pretty_move(move: int) -> str:\n",
    "    if move == UP:\n",
    "        return \"UP\"\n",
    "    elif move == DOWN:\n",
    "        return \"DOWN\"\n",
    "    elif move == LEFT:\n",
    "        return \"LEFT\"\n",
    "    elif move == RIGHT:\n",
    "        return \"RIGHT\"\n",
    "    else:\n",
    "        return \"UNKNOWN\"\n",
    "\n",
    "\n",
    "while not game.game_end:\n",
    "    _press = input(\"Press enter to continue\")\n",
    "    clear_output()\n",
    "\n",
    "    inputs = board_to_input(game.board)\n",
    "    outputs = net.activate(inputs)\n",
    "    moves = [(i, output) for i, output in enumerate(outputs)]\n",
    "\n",
    "    for move, _ in sorted(moves, key=lambda x: x[1], reverse=True):\n",
    "        changed = game.move(move)\n",
    "        print(\"Move: \", get_pretty_move(move))\n",
    "        if changed:\n",
    "            break\n",
    "\n",
    "    print(repr(game))"
   ]
  },
  {
   "cell_type": "code",
   "execution_count": null,
   "metadata": {},
   "outputs": [],
   "source": [
    "print(repr(game))"
   ]
  },
  {
   "cell_type": "code",
   "execution_count": null,
   "metadata": {},
   "outputs": [],
   "source": [
    "game.move(DOWN)"
   ]
  },
  {
   "cell_type": "code",
   "execution_count": null,
   "metadata": {},
   "outputs": [],
   "source": [
    "print(repr(game))"
   ]
  },
  {
   "cell_type": "code",
   "execution_count": null,
   "metadata": {},
   "outputs": [],
   "source": []
  }
 ],
 "metadata": {
  "kernelspec": {
   "display_name": "2048neat-3Zd3Nyhi-py3.11",
   "language": "python",
   "name": "python3"
  },
  "language_info": {
   "codemirror_mode": {
    "name": "ipython",
    "version": 3
   },
   "file_extension": ".py",
   "mimetype": "text/x-python",
   "name": "python",
   "nbconvert_exporter": "python",
   "pygments_lexer": "ipython3",
   "version": "3.11.5"
  }
 },
 "nbformat": 4,
 "nbformat_minor": 2
}
