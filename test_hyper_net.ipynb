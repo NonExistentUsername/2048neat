{
 "cells": [
  {
   "cell_type": "code",
   "execution_count": 4,
   "metadata": {},
   "outputs": [],
   "source": [
    "from neat2048.game import Game2048, UP, DOWN, LEFT, RIGHT\n",
    "from neat2048.fitness import board_to_input_v1, board_to_input\n",
    "import pickle\n",
    "from neat2048.hyper import HyperNetwork\n",
    "from neat2048.fitness_hyper import get_layers_descriptors\n",
    "\n",
    "cppn = pickle.load(open(\"output_network.pkl\", \"rb\"))\n",
    "\n",
    "\n",
    "def get_weights(inputs):\n",
    "    return cppn.activate(inputs)\n",
    "\n",
    "\n",
    "net = HyperNetwork(*get_layers_descriptors(4, 4), get_weights)\n",
    "\n",
    "game = Game2048()\n",
    "game.add_random_tile()"
   ]
  },
  {
   "cell_type": "code",
   "execution_count": 5,
   "metadata": {},
   "outputs": [
    {
     "name": "stdout",
     "output_type": "stream",
     "text": [
      "Move:  UP\n",
      "Score:  3012\n",
      "Move:  LEFT\n",
      "Score:  3016\n",
      "              \n",
      " 256 64 32 16 \n",
      "              \n",
      "  64 32 16  8 \n",
      "              \n",
      "  32 16  8  4 \n",
      "              \n",
      "   2  8  4  2 \n",
      "              \n",
      "\n"
     ]
    }
   ],
   "source": [
    "from IPython.display import clear_output\n",
    "\n",
    "print(repr(game))\n",
    "\n",
    "\n",
    "def get_pretty_move(move: int) -> str:\n",
    "    if move == UP:\n",
    "        return \"UP\"\n",
    "    elif move == DOWN:\n",
    "        return \"DOWN\"\n",
    "    elif move == LEFT:\n",
    "        return \"LEFT\"\n",
    "    elif move == RIGHT:\n",
    "        return \"RIGHT\"\n",
    "    else:\n",
    "        return \"UNKNOWN\"\n",
    "\n",
    "\n",
    "def get_net_moves(game: Game2048) -> list[tuple[int, float]]:\n",
    "    inputs = board_to_input_v1(game.board)\n",
    "    outputs = net.forward(inputs)\n",
    "    moves = [(i, output) for i, output in enumerate(outputs)]\n",
    "\n",
    "    return moves\n",
    "\n",
    "\n",
    "while not game.game_end:\n",
    "    _press = input(\"Press enter to continue\")\n",
    "    clear_output()\n",
    "\n",
    "    moves = get_net_moves(game)\n",
    "\n",
    "    for move, _ in sorted(moves, key=lambda x: x[1], reverse=True):\n",
    "        changed = game.move(move)\n",
    "        print(\"Move: \", get_pretty_move(move))\n",
    "        print(\"Score: \", game.score)\n",
    "        if changed:\n",
    "            break\n",
    "\n",
    "    print(repr(game))"
   ]
  },
  {
   "cell_type": "code",
   "execution_count": null,
   "metadata": {},
   "outputs": [],
   "source": [
    "print(repr(game))"
   ]
  },
  {
   "cell_type": "code",
   "execution_count": null,
   "metadata": {},
   "outputs": [],
   "source": [
    "game.move(DOWN)"
   ]
  },
  {
   "cell_type": "code",
   "execution_count": null,
   "metadata": {},
   "outputs": [],
   "source": [
    "print(repr(game))"
   ]
  },
  {
   "cell_type": "code",
   "execution_count": null,
   "metadata": {},
   "outputs": [],
   "source": []
  }
 ],
 "metadata": {
  "kernelspec": {
   "display_name": "2048neat-3Zd3Nyhi-py3.11",
   "language": "python",
   "name": "python3"
  },
  "language_info": {
   "codemirror_mode": {
    "name": "ipython",
    "version": 3
   },
   "file_extension": ".py",
   "mimetype": "text/x-python",
   "name": "python",
   "nbconvert_exporter": "python",
   "pygments_lexer": "ipython3",
   "version": "3.11.5"
  }
 },
 "nbformat": 4,
 "nbformat_minor": 2
}
