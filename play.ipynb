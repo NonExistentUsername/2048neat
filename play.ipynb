{
 "cells": [
  {
   "cell_type": "code",
   "execution_count": 1,
   "metadata": {},
   "outputs": [],
   "source": [
    "from neat2048.game import Game2048, UP, DOWN, LEFT, RIGHT\n",
    "\n",
    "\n",
    "def fill_board(game):\n",
    "    for i in range(4):\n",
    "        for j in range(4):\n",
    "            if i < 3 and j < 3:\n",
    "                game[i][j] = 2"
   ]
  },
  {
   "cell_type": "code",
   "execution_count": null,
   "metadata": {},
   "outputs": [],
   "source": [
    "BOARD_SIZE_X = 4\n",
    "BOARD_SIZE_Y = 4\n",
    "\n",
    "\n",
    "def calc_board_monotonicity(game: Game2048) -> int:\n",
    "    monotonicity = 0\n",
    "\n",
    "    for x in range(0, BOARD_SIZE_X):\n",
    "        right_to_left_count = 0\n",
    "        left_to_right_count = 0\n",
    "\n",
    "        for y in range(0, BOARD_SIZE_Y - 1):\n",
    "            if game[x][y] > game[x][y + 1]:\n",
    "                right_to_left_count += 1\n",
    "            elif game[x][y] < game[x][y + 1]:\n",
    "                left_to_right_count += 1\n",
    "\n",
    "        monotonicity += max(right_to_left_count, left_to_right_count)\n",
    "\n",
    "    for y in range(0, BOARD_SIZE_Y):\n",
    "        top_to_bottom_count = 0\n",
    "        bottom_to_top_count = 0\n",
    "\n",
    "        for x in range(0, BOARD_SIZE_X - 1):\n",
    "            if game[x][y] > game[x + 1][y]:\n",
    "                top_to_bottom_count += 1\n",
    "            elif game[x][y] < game[x + 1][y]:\n",
    "                bottom_to_top_count += 1\n",
    "\n",
    "        monotonicity += max(top_to_bottom_count, bottom_to_top_count)\n",
    "\n",
    "    return monotonicity"
   ]
  },
  {
   "cell_type": "code",
   "execution_count": 2,
   "metadata": {},
   "outputs": [
    {
     "name": "stdout",
     "output_type": "stream",
     "text": [
      "Invalid move\n",
      "Score:  88\n",
      "         \n",
      " 0 2 8 8 \n",
      "         \n",
      " 2 2 4 8 \n",
      "         \n",
      " 0 0 4 8 \n",
      "         \n",
      " 0 0 0 8 \n",
      "         \n",
      "\n"
     ]
    }
   ],
   "source": [
    "from IPython.display import clear_output\n",
    "\n",
    "game = Game2048()\n",
    "game.add_random_tile()\n",
    "\n",
    "print(repr(game))\n",
    "\n",
    "while not game.game_end:\n",
    "    move = input(\"Enter move: \")\n",
    "\n",
    "    # clear output\n",
    "    clear_output(wait=True)\n",
    "\n",
    "    if move == \"q\":\n",
    "        break\n",
    "    elif move == \"w\":\n",
    "        game.move(UP, add_random_tile=True)\n",
    "    elif move == \"s\":\n",
    "        game.move(DOWN, add_random_tile=True)\n",
    "    elif move == \"a\":\n",
    "        game.move(LEFT, add_random_tile=True)\n",
    "    elif move == \"d\":\n",
    "        game.move(RIGHT, add_random_tile=True)\n",
    "    else:\n",
    "        print(\"Invalid move\")\n",
    "\n",
    "    print(\"Score: \", game.score)\n",
    "    print(repr(game))"
   ]
  },
  {
   "cell_type": "code",
   "execution_count": null,
   "metadata": {},
   "outputs": [],
   "source": [
    "import itertools\n",
    "\n",
    "\n",
    "def process_long_falling_from_tile(game: Game2048, x: int, y: int) -> int:\n",
    "    # Min value is 2, max is 4*4 = 16\n",
    "\n",
    "    best_neighbour_positions = []\n",
    "    best_neighbour_value = -1\n",
    "\n",
    "    is_valid = lambda x, y: 0 <= x < game.size_x and 0 <= y < game.size_y\n",
    "\n",
    "    for dx, dy in [(1, 0), (0, 1), (-1, 0), (0, -1)]:\n",
    "        new_x, new_y = x + dx, y + dy\n",
    "\n",
    "        if not is_valid(new_x, new_y):\n",
    "            continue\n",
    "\n",
    "        value = game.board[new_x][new_y]\n",
    "        if value > best_neighbour_value and value < game.board[x][y]:\n",
    "            best_neighbour_value = value\n",
    "            best_neighbour_positions = [(new_x, new_y)]\n",
    "        elif value == best_neighbour_value:\n",
    "            best_neighbour_positions.append((new_x, new_y))\n",
    "\n",
    "    best_val = 1\n",
    "    for x, y in best_neighbour_positions:\n",
    "        best_val = max(best_val, 1 + process_long_falling_from_tile(game, x, y))\n",
    "\n",
    "    return best_val\n",
    "\n",
    "\n",
    "def find_max_path_from_tiles(game: Game2048) -> int:\n",
    "    # Min value is 2, max is 4*4 = 16\n",
    "    max_tile_value = 0\n",
    "    for x, y in itertools.product(range(game.size_x), range(game.size_y)):\n",
    "        if game.board[x][y] > max_tile_value:\n",
    "            max_tile_value = game.board[x][y]\n",
    "\n",
    "    longest_path = 0\n",
    "    for x, y in itertools.product(range(game.size_x), range(game.size_y)):\n",
    "        if game.board[x][y] == max_tile_value:\n",
    "            longest_path = max(longest_path, process_long_falling_from_tile(game, x, y))\n",
    "\n",
    "    return longest_path"
   ]
  },
  {
   "cell_type": "code",
   "execution_count": null,
   "metadata": {},
   "outputs": [],
   "source": [
    "find_max_path_from_tiles(game)"
   ]
  },
  {
   "cell_type": "code",
   "execution_count": null,
   "metadata": {},
   "outputs": [],
   "source": [
    "game = Game2048()\n",
    "\n",
    "IDEAL_MONOTONICITY_BOARD = [\n",
    "    [2, 4, 8, 16],\n",
    "    [256, 128, 64, 32],\n",
    "    [512, 1024, 2048, 4096],\n",
    "    [65536, 32768, 16384, 8192],\n",
    "]\n",
    "\n",
    "for y in range(4):\n",
    "    for x in range(4):\n",
    "        game[y][x] = IDEAL_MONOTONICITY_BOARD[y][x]\n",
    "\n",
    "print(find_max_path_from_tiles(game))"
   ]
  },
  {
   "cell_type": "code",
   "execution_count": null,
   "metadata": {},
   "outputs": [],
   "source": []
  }
 ],
 "metadata": {
  "kernelspec": {
   "display_name": "2048neat-3Zd3Nyhi-py3.11",
   "language": "python",
   "name": "python3"
  },
  "language_info": {
   "codemirror_mode": {
    "name": "ipython",
    "version": 3
   },
   "file_extension": ".py",
   "mimetype": "text/x-python",
   "name": "python",
   "nbconvert_exporter": "python",
   "pygments_lexer": "ipython3",
   "version": "3.11.5"
  },
  "orig_nbformat": 4
 },
 "nbformat": 4,
 "nbformat_minor": 2
}
