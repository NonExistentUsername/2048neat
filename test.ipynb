{
 "cells": [
  {
   "cell_type": "code",
   "execution_count": 25,
   "metadata": {},
   "outputs": [],
   "source": [
    "from neat2048.game import Game2048, UP, DOWN, LEFT, RIGHT\n",
    "\n",
    "\n",
    "def fill_board(game):\n",
    "    for i in range(4):\n",
    "        for j in range(4):\n",
    "            if i < 3 and j < 3:\n",
    "                game[i][j] = 2"
   ]
  },
  {
   "cell_type": "code",
   "execution_count": 26,
   "metadata": {},
   "outputs": [],
   "source": [
    "BOARD_SIZE_X = 4\n",
    "BOARD_SIZE_Y = 4\n",
    "\n",
    "\n",
    "def calc_board_monotonicity(game: Game2048) -> int:\n",
    "    monotonicity = 0\n",
    "\n",
    "    for x in range(0, BOARD_SIZE_X):\n",
    "        right_to_left_count = 0\n",
    "        left_to_right_count = 0\n",
    "\n",
    "        for y in range(0, BOARD_SIZE_Y - 1):\n",
    "            if game[x][y] > game[x][y + 1]:\n",
    "                right_to_left_count += 1\n",
    "            elif game[x][y] < game[x][y + 1]:\n",
    "                left_to_right_count += 1\n",
    "\n",
    "        monotonicity += max(right_to_left_count, left_to_right_count)\n",
    "\n",
    "    for y in range(0, BOARD_SIZE_Y):\n",
    "        top_to_bottom_count = 0\n",
    "        bottom_to_top_count = 0\n",
    "\n",
    "        for x in range(0, BOARD_SIZE_X - 1):\n",
    "            if game[x][y] > game[x + 1][y]:\n",
    "                top_to_bottom_count += 1\n",
    "            elif game[x][y] < game[x + 1][y]:\n",
    "                bottom_to_top_count += 1\n",
    "\n",
    "        monotonicity += max(top_to_bottom_count, bottom_to_top_count)\n",
    "\n",
    "    return monotonicity"
   ]
  },
  {
   "cell_type": "code",
   "execution_count": 27,
   "metadata": {},
   "outputs": [
    {
     "name": "stdout",
     "output_type": "stream",
     "text": [
      "Invalid move\n",
      "Monotonicity:  17\n",
      "Score:  548\n",
      "0 2 0 4\n",
      "0 0 4 8\n",
      "2 4 32 4\n",
      "4 8 16 64\n",
      "\n"
     ]
    }
   ],
   "source": [
    "from IPython.display import clear_output\n",
    "\n",
    "game = Game2048()\n",
    "game.add_random_tile()\n",
    "\n",
    "print(repr(game))\n",
    "\n",
    "while not game.game_end:\n",
    "    move = input(\"Enter move: \")\n",
    "\n",
    "    # clear output\n",
    "    clear_output(wait=True)\n",
    "\n",
    "    if move == \"q\":\n",
    "        break\n",
    "    elif move == \"w\":\n",
    "        game.move(UP, add_random_tile=True)\n",
    "    elif move == \"s\":\n",
    "        game.move(DOWN, add_random_tile=True)\n",
    "    elif move == \"a\":\n",
    "        game.move(LEFT, add_random_tile=True)\n",
    "    elif move == \"d\":\n",
    "        game.move(RIGHT, add_random_tile=True)\n",
    "    else:\n",
    "        print(\"Invalid move\")\n",
    "\n",
    "    print(\"Monotonicity: \", calc_board_monotonicity(game))\n",
    "    print(\"Score: \", game.score)\n",
    "    print(repr(game))"
   ]
  },
  {
   "cell_type": "code",
   "execution_count": 23,
   "metadata": {},
   "outputs": [],
   "source": []
  },
  {
   "cell_type": "code",
   "execution_count": 24,
   "metadata": {},
   "outputs": [
    {
     "name": "stdout",
     "output_type": "stream",
     "text": [
      "24\n"
     ]
    }
   ],
   "source": [
    "game = Game2048()\n",
    "\n",
    "IDEAL_MONOTONICITY_BOARD = [\n",
    "    [2, 4, 8, 16],\n",
    "    [4, 8, 16, 32],\n",
    "    [8, 16, 32, 64],\n",
    "    [16, 32, 64, 128],\n",
    "]\n",
    "\n",
    "for y in range(BOARD_SIZE_Y):\n",
    "    for x in range(BOARD_SIZE_X):\n",
    "        game[y][x] = IDEAL_MONOTONICITY_BOARD[y][x]\n",
    "\n",
    "print(calc_board_monotonicity(game))"
   ]
  },
  {
   "cell_type": "code",
   "execution_count": null,
   "metadata": {},
   "outputs": [],
   "source": []
  }
 ],
 "metadata": {
  "kernelspec": {
   "display_name": "2048neat-3Zd3Nyhi-py3.11",
   "language": "python",
   "name": "python3"
  },
  "language_info": {
   "codemirror_mode": {
    "name": "ipython",
    "version": 3
   },
   "file_extension": ".py",
   "mimetype": "text/x-python",
   "name": "python",
   "nbconvert_exporter": "python",
   "pygments_lexer": "ipython3",
   "version": "3.11.5"
  },
  "orig_nbformat": 4
 },
 "nbformat": 4,
 "nbformat_minor": 2
}
