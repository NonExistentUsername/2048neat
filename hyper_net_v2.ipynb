{
 "cells": [
  {
   "cell_type": "code",
   "execution_count": 1,
   "metadata": {},
   "outputs": [],
   "source": [
    "from neat2048.refactor.game import Game2048, UP, DOWN, LEFT, RIGHT\n",
    "import pickle\n",
    "from neat2048.refactor.hyper import HyperNetwork\n",
    "from neat2048.refactor.nets import get_layers_descriptors\n",
    "from neat2048.refactor.game_fitnesses import GameScoreFitness, GameStats\n",
    "from neat2048.refactor.predictions import MinMaxNetPredictor, Log2ScaledConverter\n",
    "from neat2048.refactor.nets import HyperNetCreator\n",
    "\n",
    "cppn = pickle.load(open(\"output_network.pkl\", \"rb\"))\n",
    "\n",
    "board_size_x, board_size_y = 4, 4\n",
    "\n",
    "\n",
    "min_max_predictor = MinMaxNetPredictor(\n",
    "    converter=Log2ScaledConverter(),\n",
    "    depth=2,\n",
    ")\n",
    "\n",
    "net_creator = HyperNetCreator()\n",
    "\n",
    "descriptors = get_layers_descriptors(board_size_x, board_size_y)\n",
    "\n",
    "\n",
    "def get_weights(inputs: list[float]) -> list[float]:\n",
    "    return cppn.activate(inputs)\n",
    "\n",
    "\n",
    "net = HyperNetwork(get_layers_descriptors(board_size_x, board_size_y), get_weights)"
   ]
  },
  {
   "cell_type": "code",
   "execution_count": 9,
   "metadata": {},
   "outputs": [
    {
     "name": "stdout",
     "output_type": "stream",
     "text": [
      "Move:  UP\n",
      "Score:  1868\n",
      "             \n",
      " 8  2   4 32 \n",
      "             \n",
      " 4 32  64  2 \n",
      "             \n",
      " 2 64 128 16 \n",
      "             \n",
      " 4  8  16 32 \n",
      "             \n",
      "\n",
      "1868\n"
     ]
    }
   ],
   "source": [
    "from IPython.display import clear_output\n",
    "\n",
    "game = Game2048(size_x=board_size_x, size_y=board_size_y)\n",
    "game.add_random_tile()\n",
    "\n",
    "print(repr(game))\n",
    "\n",
    "\n",
    "def get_pretty_move(move: int) -> str:\n",
    "    if move == UP:\n",
    "        return \"UP\"\n",
    "    elif move == DOWN:\n",
    "        return \"DOWN\"\n",
    "    elif move == LEFT:\n",
    "        return \"LEFT\"\n",
    "    elif move == RIGHT:\n",
    "        return \"RIGHT\"\n",
    "    else:\n",
    "        return \"UNKNOWN\"\n",
    "\n",
    "\n",
    "while not game.game_end:\n",
    "    # _press = input(\"Press enter to continue\")\n",
    "    clear_output()\n",
    "\n",
    "    moves = min_max_predictor.predict_batch(net, [game])[0]\n",
    "\n",
    "    for move, _ in sorted(moves, key=lambda x: x[1], reverse=True):\n",
    "        changed = game.move(move, add_random_tile=True)\n",
    "        print(\"Move: \", get_pretty_move(move))\n",
    "        print(\"Score: \", game.score)\n",
    "        if changed:\n",
    "            break\n",
    "\n",
    "    print(repr(game))\n",
    "\n",
    "print(game.score)"
   ]
  },
  {
   "cell_type": "code",
   "execution_count": 3,
   "metadata": {},
   "outputs": [
    {
     "name": "stdout",
     "output_type": "stream",
     "text": [
      "11.165535141377925\n"
     ]
    }
   ],
   "source": [
    "print(GameScoreFitness(scale=False).fitness(GameStats(game, 0, 0, 0)))"
   ]
  },
  {
   "cell_type": "code",
   "execution_count": null,
   "metadata": {},
   "outputs": [],
   "source": []
  },
  {
   "cell_type": "code",
   "execution_count": null,
   "metadata": {},
   "outputs": [],
   "source": []
  }
 ],
 "metadata": {
  "kernelspec": {
   "display_name": "2048neat-3Zd3Nyhi-py3.11",
   "language": "python",
   "name": "python3"
  },
  "language_info": {
   "codemirror_mode": {
    "name": "ipython",
    "version": 3
   },
   "file_extension": ".py",
   "mimetype": "text/x-python",
   "name": "python",
   "nbconvert_exporter": "python",
   "pygments_lexer": "ipython3",
   "version": "3.11.5"
  }
 },
 "nbformat": 4,
 "nbformat_minor": 2
}
